{
 "cells": [
  {
   "cell_type": "markdown",
   "metadata": {},
   "source": [
    "# Загрузка данных"
   ]
  },
  {
   "cell_type": "code",
   "execution_count": null,
   "metadata": {},
   "outputs": [],
   "source": [
    "USE_FILE = 5            # номер используемго файла (см ниже)\n",
    "\n",
    "START_DATE = None\n",
    "END_DATE = None\n",
    "#START_DATE = \"2025-02-02 03:06:00\" # начать с этой даты/времени\n",
    "#END_DATE = \"2025-02-02 03:26:30\"   # закончить с этой даты/времени\n",
    "\n",
    "PEAK_MIN_DISTANCE = 10  # минимальное расстояние между максимумами"
   ]
  },
  {
   "cell_type": "code",
   "execution_count": null,
   "metadata": {},
   "outputs": [],
   "source": [
    "# List of available data file names\n",
    "# Список доступных файлов с данными\n",
    "files = {\n",
    "    1: \"Checkme O2 _20250114084307.csv\", \n",
    "    2: \"Checkme O2 _20250119122308.csv\", # запись в постели, я не сплю, но только что проснулся после длительного сна и еще не двигался\n",
    "    3: \"Checkme O2 _20250116013719.csv\", # пример ночной записи с этапами сна в наморднике и без него, этапов просыпания\n",
    "    4: \"Checkme O2 _20250130232839.csv\", # вначале я бодрствовал , потом спал без намордника\n",
    "    5: \"Checkme O2 _20250201233254.csv\", # прислан 4 февраля\n",
    "    6: \"Checkme O2 _20241203213231.csv\", # прислан 16/02/2025\n",
    "    7: \"Checkme O2 _20250218003132.csv\"  # прислан 18/02/2025\n",
    "}"
   ]
  },
  {
   "cell_type": "code",
   "execution_count": null,
   "metadata": {},
   "outputs": [],
   "source": [
    "# Load the libraries\n",
    "# Загрузка библиотек\n",
    "import os\n",
    "import pandas as pd\n",
    "import numpy as np\n",
    "import matplotlib.pyplot as plt\n",
    "from scipy.signal import find_peaks, savgol_filter\n",
    "\n",
    "# Set the directory where the data files are located\n",
    "# Установка директории, где находятся файлы с данными\n",
    "DATADIR = \"data\""
   ]
  },
  {
   "cell_type": "code",
   "execution_count": null,
   "metadata": {},
   "outputs": [],
   "source": [
    "# Load CSV into a pandas DataFrame\n",
    "# Загрузить данные из CSV файла в датафрейм\n",
    "filename = files[USE_FILE]\n",
    "filename = os.path.join(DATADIR, filename)\n",
    "\n",
    "df = pd.read_csv(\n",
    "    filename,\n",
    "    parse_dates=['Time'],\n",
    "    date_format='%H:%M:%S %b %d %Y'\n",
    ")\n",
    "\n",
    "# Set Time as the index\n",
    "# Использовать время как индекс\n",
    "df.set_index('Time', inplace=True)\n",
    "\n",
    "# Remove non-numeric values from df[\"Oxygen Level\"]\n",
    "# Удалить нечисловые значения из df[\"Oxygen Level\"] (так как там мусор кроме чисел встречается)\n",
    "df[\"Oxygen Level\"] = pd.to_numeric(df[\"Oxygen Level\"], errors='coerce')\n",
    "df.dropna(subset=['Oxygen Level'], inplace=True)"
   ]
  },
  {
   "cell_type": "markdown",
   "metadata": {},
   "source": [
    "# Отрисовка графика (до вырезания временного интервала)"
   ]
  },
  {
   "cell_type": "code",
   "execution_count": null,
   "metadata": {},
   "outputs": [],
   "source": [
    "# Plot Oxygen Level vs. Time\n",
    "# Построить график уровня кислорода от времени\n",
    "plt.figure(figsize=(20, 4))\n",
    "plt.plot(df.index, df['Oxygen Level'])\n",
    "plt.xlabel('Time')\n",
    "plt.ylabel('Oxygen Level')\n",
    "plt.title('Oxygen Level vs Time')\n",
    "plt.grid(True)\n",
    "plt.tight_layout()\n",
    "plt.show()"
   ]
  },
  {
   "cell_type": "markdown",
   "metadata": {},
   "source": [
    "# Вырезание временного интервала"
   ]
  },
  {
   "cell_type": "code",
   "execution_count": null,
   "metadata": {},
   "outputs": [],
   "source": [
    "if START_DATE is not None:\n",
    "    df = df.loc[START_DATE:]\n",
    "if END_DATE is not None:\n",
    "    df = df.loc[:END_DATE]"
   ]
  },
  {
   "cell_type": "markdown",
   "metadata": {},
   "source": [
    "# Вывод исходных данных из выбранного веременного интервала (до сглаживания)"
   ]
  },
  {
   "cell_type": "code",
   "execution_count": null,
   "metadata": {},
   "outputs": [],
   "source": [
    "# Напечатать содержимое датафрейма\n",
    "df"
   ]
  },
  {
   "cell_type": "markdown",
   "metadata": {},
   "source": [
    "# Вычисление среднего и отрисовка графика (до сглаживания)"
   ]
  },
  {
   "cell_type": "code",
   "execution_count": null,
   "metadata": {},
   "outputs": [],
   "source": [
    "# Calculate the average oxygen level\n",
    "# Вычислить средний уровень кислорода\n",
    "average_O2 = df[\"Oxygen Level\"].mean()\n",
    "\n",
    "# Calculate the average oxygen level minus 3% - they use this threshold for apnea detection\n",
    "# Вычислить средний уровень кислорода минус 3% - этот порог используется для обнаружения апноэ\n",
    "average_O3_minus_3p = average_O2 * 0.97"
   ]
  },
  {
   "cell_type": "code",
   "execution_count": null,
   "metadata": {},
   "outputs": [],
   "source": [
    "# Plot Oxygen Level vs. Time\n",
    "# Построить график уровня кислорода от времени\n",
    "plt.figure(figsize=(40, 4))\n",
    "plt.axhline(average_O2, color='y', linestyle='--', label=\"Average O2\")\n",
    "plt.axhline(average_O3_minus_3p, color='r', linestyle='--', label=\"Average O2 - 3%\")\n",
    "plt.plot(df.index, df['Oxygen Level'])\n",
    "plt.xlabel('Time')\n",
    "plt.ylabel('Oxygen Level')\n",
    "plt.title('Oxygen Level vs Time')\n",
    "plt.grid(True)\n",
    "plt.tight_layout()\n",
    "plt.show()"
   ]
  },
  {
   "cell_type": "markdown",
   "metadata": {},
   "source": [
    "# Сглаживание ряда"
   ]
  },
  {
   "cell_type": "code",
   "execution_count": null,
   "metadata": {},
   "outputs": [],
   "source": [
    "# длина окна сглаживания (в отсчетах)\n",
    "window_length = None # 11 # None - без сглаживания\n",
    "# порядок полинома сглаживания\n",
    "polyorder = 2"
   ]
  },
  {
   "cell_type": "code",
   "execution_count": null,
   "metadata": {},
   "outputs": [],
   "source": [
    "# Smwindow_lengthooth the data series\n",
    "# Сгладить временной ряд\n",
    "if window_length is not None:\n",
    "    df[\"O2_smooth\"] = savgol_filter(df[\"Oxygen Level\"], window_length=window_length, polyorder=polyorder)\n",
    "else:\n",
    "    df[\"O2_smooth\"] = df[\"Oxygen Level\"]"
   ]
  },
  {
   "cell_type": "code",
   "execution_count": null,
   "metadata": {},
   "outputs": [],
   "source": [
    "# Plot again\n",
    "# Построить график снова\n",
    "plt.figure(figsize=(40, 4))\n",
    "plt.plot(df.index, df['O2_smooth'])\n",
    "plt.axhline(average_O2, color='y', linestyle='--', label=\"Average O2\")\n",
    "plt.axhline(average_O3_minus_3p, color='r', linestyle='--', label=\"Average O2 - 3%\")\n",
    "plt.xlabel('Time')\n",
    "plt.ylabel('O2_smooth')\n",
    "plt.title('O2_smooth vs Time')\n",
    "plt.grid(True)\n",
    "plt.tight_layout()"
   ]
  },
  {
   "cell_type": "markdown",
   "metadata": {},
   "source": [
    "# Анализ данных - разделение ряда на события между максимумами"
   ]
  },
  {
   "cell_type": "code",
   "execution_count": null,
   "metadata": {},
   "outputs": [],
   "source": [
    "# Use the smoothed O2 data to find peaks\n",
    "# Использовать сглаженные данные O2 для поиска пиков\n",
    "y = df[\"O2_smooth\"].values\n",
    "\n",
    "# Find_peaks returns indices in the array that are peak positions\n",
    "# Find_peaks возвращает индексы в массиве, которые являются позициями пиков\n",
    "peak_indices, peak_dict = find_peaks(\n",
    "    y,\n",
    "    distance=PEAK_MIN_DISTANCE,\n",
    ")\n",
    "\n",
    "# Convert indices back to your DataFrame index (Time)\n",
    "# Преобразовать индексы обратно в индекс вашего датафрейма (Time)\n",
    "peak_times = df.index[peak_indices]\n",
    "\n",
    "# List of events, will hold (max1_idx, min_idx, max2_idx) for each event\n",
    "# Список событий, будет содержать (max1_idx, min_idx, max2_idx) для каждого события\n",
    "events = []\n",
    "\n",
    "for i in range(len(peak_indices) - 1):\n",
    "    # Start and end of one respiratory cycle\n",
    "    # Начало и конец одного дыхательного цикла\n",
    "    start_idx = peak_indices[i]\n",
    "    end_idx   = peak_indices[i + 1]\n",
    "    \n",
    "    # Slice the O2 array in between these two peaks\n",
    "    # Вырезать массив O2 между этими двумя пиками\n",
    "    segment = y[start_idx : end_idx + 1]\n",
    "    \n",
    "    # Find the index of the min in this segment (relative to segment)\n",
    "    # Найти индекс минимума в этом сегменте (относительно сегмента)\n",
    "    min_local_idx = np.argmin(segment)\n",
    "    \n",
    "    # Convert that to an absolute index in the full data\n",
    "    # Преобразовать его в абсолютный индекс в полных данных\n",
    "    actual_min_idx = start_idx + min_local_idx\n",
    "    \n",
    "    # Store the triple: (start_of_cycle, the_minimum, next_peak)\n",
    "    # Сохранить тройку: (начало_цикла, минимум, следующий_пик)\n",
    "    events.append((peak_indices[i], actual_min_idx, peak_indices[i+1]))"
   ]
  },
  {
   "cell_type": "markdown",
   "metadata": {},
   "source": [
    "# Отрисовка графика с выделенными пиками"
   ]
  },
  {
   "cell_type": "code",
   "execution_count": null,
   "metadata": {},
   "outputs": [],
   "source": [
    "# Plot the smoothed O2 data, with the peaks and minima marked\n",
    "# Построить сглаженные данные O2, с отмеченными пиками и минимумами\n",
    "fig, ax = plt.subplots(figsize=(8, 4)) ### <<< эти два числа задают ширину и высоту графика\n",
    "\n",
    "ax.plot(df.index, y, label=\"O2\")\n",
    "plt.axhline(average_O2, color='y', linestyle='--', label=\"Average O2\")\n",
    "plt.axhline(average_O3_minus_3p, color='r', linestyle='--', label=\"Average O2 - 3%\")\n",
    "\n",
    "ax.plot(df.index[peak_indices], y[peak_indices], 'go', label=\"Detected Peaks\")\n",
    "minima_indices = [ev[1] for ev in events]\n",
    "ax.plot(df.index[minima_indices], y[minima_indices], 'ro', label=\"Detected Minima\")\n",
    "\n",
    "ax.set_xlabel(\"Time\")\n",
    "ax.set_ylabel(\"O2 (%)\")\n",
    "ax.set_title(\"Respiratory Events (Max → Min → Max)\")\n",
    "ax.legend()\n",
    "ax.grid(True)\n",
    "plt.tight_layout()\n",
    "plt.show()"
   ]
  },
  {
   "cell_type": "markdown",
   "metadata": {},
   "source": [
    "# Анализ - рассчет нагрузки"
   ]
  },
  {
   "cell_type": "code",
   "execution_count": null,
   "metadata": {},
   "outputs": [],
   "source": [
    "# List of analysis results\n",
    "# Список результатов анализа\n",
    "analysis = []\n",
    "\n",
    "for (max1, min_, max2) in events:\n",
    "    # Extract the O2 values for this event\n",
    "    # Извлечь значения O2 для этого события\n",
    "    o2_max1 = y[max1]\n",
    "    o2_min  = y[min_]\n",
    "    o2_max2 = y[max2]\n",
    "    \n",
    "    # Extract the times for this event\n",
    "    # Извлечь времена для этого события\n",
    "    time_max1 = df.index[max1]\n",
    "    time_min  = df.index[min_]\n",
    "    time_max2 = df.index[max2]\n",
    "    \n",
    "    # Calculate the amplitude of O2 drop\n",
    "    # Вычислить амплитуду падения O2\n",
    "    drop_amp = o2_max1 - o2_min \n",
    "    # Calculate the duration of the event\n",
    "    # Вычислить длительность события\n",
    "    duration = (time_max2 - time_max1).total_seconds() / 60.0  # in minutes, e.g.\n",
    "\n",
    "    # Consider the second maximum value as the baseline\n",
    "    # Считать второе максимальное значение базовым\n",
    "    #baseline = o2_max2\n",
    "\n",
    "    # IGNORE take an integral of the O2 values (under the baseline) in the event\n",
    "    # IGNORE take into account that time between samples is not constant, but use 'Time' column to calculate the integral\n",
    "    # IGNORE integral = np.trapz(y[min_:max2-1] - baseline)\n",
    "\n",
    "    # calculate the desaturation load factor in percent-minutes\n",
    "    # вычислить фактор нагрузки десатурации в процент-минутах\n",
    "    desaturation_load = (o2_max2 - o2_min) * duration / 2.0\n",
    "    #desaturation_load = integral / baseline * 100.0\n",
    "    \n",
    "    # Store the analysis results\n",
    "    # Сохранить результаты анализа\n",
    "    analysis.append({\n",
    "        \"start_time\": time_max1,\n",
    "        \"min_time\": time_min,\n",
    "        \"end_time\": time_max2,\n",
    "        \"start_O2\": o2_max1,\n",
    "        \"min_O2\":   o2_min,\n",
    "        \"end_O2\":   o2_max2,\n",
    "        \"drop_amp\": drop_amp,\n",
    "        \"duration\": duration,\n",
    "        #\"integral\": integral,\n",
    "        \"desaturation_load\": desaturation_load\n",
    "    })\n",
    "\n",
    "# Convert the analysis list to a DataFrame\n",
    "# Преобразовать список анализа в датафрейм\n",
    "analysis_df = pd.DataFrame(analysis)"
   ]
  },
  {
   "cell_type": "markdown",
   "metadata": {},
   "source": [
    "# Вывод таблицы результатов анализа"
   ]
  },
  {
   "cell_type": "code",
   "execution_count": null,
   "metadata": {},
   "outputs": [],
   "source": [
    "# Print the analysis DataFrame\n",
    "# Напечатать датафрейм анализа\n",
    "analysis_df"
   ]
  },
  {
   "cell_type": "markdown",
   "metadata": {},
   "source": [
    "# Статистическая обработка нагрузки"
   ]
  },
  {
   "cell_type": "code",
   "execution_count": null,
   "metadata": {},
   "outputs": [],
   "source": [
    "desaturation_load = analysis_df['desaturation_load']\n",
    "desaturation_load.hist()"
   ]
  },
  {
   "cell_type": "code",
   "execution_count": null,
   "metadata": {},
   "outputs": [],
   "source": [
    "print(f\"среднее \\t{desaturation_load.mean()}\\nдевиация\\t{desaturation_load.std()}\\nминимум \\t{desaturation_load.min()}\\nмаксимум\\t{desaturation_load.max()}\")"
   ]
  },
  {
   "cell_type": "code",
   "execution_count": null,
   "metadata": {},
   "outputs": [],
   "source": []
  }
 ],
 "metadata": {
  "kernelspec": {
   "display_name": "Python 3 (ipykernel)",
   "language": "python",
   "name": "python3"
  },
  "language_info": {
   "codemirror_mode": {
    "name": "ipython",
    "version": 3
   },
   "file_extension": ".py",
   "mimetype": "text/x-python",
   "name": "python",
   "nbconvert_exporter": "python",
   "pygments_lexer": "ipython3",
   "version": "3.10.14"
  }
 },
 "nbformat": 4,
 "nbformat_minor": 4
}
