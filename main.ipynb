{
 "cells": [
  {
   "cell_type": "code",
   "execution_count": null,
   "metadata": {},
   "outputs": [],
   "source": [
    "USE_FILE = 2            # номер используемго файла (см выше)\n",
    "PEAK_MIN_DISTANCE = 10  # минимальное расстояние между максимумами"
   ]
  },
  {
   "cell_type": "code",
   "execution_count": 2,
   "metadata": {},
   "outputs": [],
   "source": [
    "files = {\n",
    "    1: \"Checkme O2 _20250114084307.csv\", \n",
    "    2: \"Checkme O2 _20250119122308.csv\", # запись в постели, я не сплю, но только что проснулся после длительного сна и еще не двигался\n",
    "    3: \"Checkme O2 _20250116013719.csv\", # пример ночной записи с этапами сна в наморднике и без него, этапов просыпания\n",
    "}"
   ]
  },
  {
   "cell_type": "code",
   "execution_count": 1,
   "metadata": {},
   "outputs": [],
   "source": [
    "import os\n",
    "import pandas as pd\n",
    "import numpy as np\n",
    "import matplotlib.pyplot as plt\n",
    "from scipy.signal import find_peaks, savgol_filter\n",
    "\n",
    "DATADIR = \"data\""
   ]
  },
  {
   "cell_type": "code",
   "execution_count": 3,
   "metadata": {},
   "outputs": [],
   "source": [
    "filename = files[USE_FILE]"
   ]
  },
  {
   "cell_type": "code",
   "execution_count": 4,
   "metadata": {},
   "outputs": [],
   "source": [
    "# Load CSV into a pandas DataFrame\n",
    "filename = os.path.join(DATADIR, filename)\n",
    "\n",
    "df = pd.read_csv(\n",
    "    filename,\n",
    "    parse_dates=['Time'],\n",
    "    date_format='%H:%M:%S %b %d %Y'\n",
    ")\n",
    "\n",
    "# Set Time as the index\n",
    "df.set_index('Time', inplace=True)"
   ]
  },
  {
   "cell_type": "code",
   "execution_count": null,
   "metadata": {},
   "outputs": [],
   "source": [
    "df"
   ]
  },
  {
   "cell_type": "code",
   "execution_count": 6,
   "metadata": {},
   "outputs": [],
   "source": [
    "# Remove non-numeric values from df[\"Oxygen Level\"]\n",
    "df[\"Oxygen Level\"] = pd.to_numeric(df[\"Oxygen Level\"], errors='coerce')\n",
    "df.dropna(subset=['Oxygen Level'], inplace=True)\n",
    "\n",
    "# Calculate the average oxygen level\n",
    "average_O2 = df[\"Oxygen Level\"].mean()\n",
    "# Calculate the average oxygen level minus 3% - they use this threshold for apnea detection\n",
    "average_O3_minus_3p = average_O2 * 0.97"
   ]
  },
  {
   "cell_type": "code",
   "execution_count": null,
   "metadata": {},
   "outputs": [],
   "source": [
    "# Plot Oxygen Level vs. Time\n",
    "plt.figure(figsize=(40, 4))\n",
    "plt.axhline(average_O2, color='y', linestyle='--', label=\"Average O2\")\n",
    "plt.axhline(average_O3_minus_3p, color='r', linestyle='--', label=\"Average O2 - 3%\")\n",
    "plt.plot(df.index, df['Oxygen Level'])\n",
    "plt.xlabel('Time')\n",
    "plt.ylabel('Oxygen Level')\n",
    "plt.title('Oxygen Level vs Time')\n",
    "plt.grid(True)\n",
    "plt.tight_layout()\n",
    "plt.show()"
   ]
  },
  {
   "cell_type": "code",
   "execution_count": 8,
   "metadata": {},
   "outputs": [],
   "source": [
    "# Smooth the data series\n",
    "df[\"O2_smooth\"] = savgol_filter(df[\"Oxygen Level\"], window_length=11, polyorder=2)"
   ]
  },
  {
   "cell_type": "code",
   "execution_count": null,
   "metadata": {},
   "outputs": [],
   "source": [
    "# Plot again\n",
    "plt.figure(figsize=(40, 4))\n",
    "plt.plot(df.index, df['O2_smooth'])\n",
    "plt.axhline(average_O2, color='y', linestyle='--', label=\"Average O2\")\n",
    "plt.axhline(average_O3_minus_3p, color='r', linestyle='--', label=\"Average O2 - 3%\")\n",
    "plt.xlabel('Time')\n",
    "plt.ylabel('O2_smooth')\n",
    "plt.title('O2_smooth vs Time')\n",
    "plt.grid(True)\n",
    "plt.tight_layout()"
   ]
  },
  {
   "cell_type": "code",
   "execution_count": 11,
   "metadata": {},
   "outputs": [],
   "source": [
    "# Use the smoothed O2 data to find peaks\n",
    "y = df[\"O2_smooth\"].values\n",
    "\n",
    "# Find_peaks returns indices in the array that are peak positions\n",
    "peak_indices, peak_dict = find_peaks(\n",
    "    y,\n",
    "    distance=PEAK_MIN_DISTANCE,\n",
    ")\n",
    "\n",
    "# Convert indices back to your DataFrame index (Time) if you like:\n",
    "peak_times = df.index[peak_indices]\n",
    "\n",
    "events = []  # to hold (max1_idx, min_idx, max2_idx) for each event\n",
    "\n",
    "for i in range(len(peak_indices) - 1):\n",
    "    # Start and end of one respiratory cycle\n",
    "    start_idx = peak_indices[i]\n",
    "    end_idx   = peak_indices[i + 1]\n",
    "    \n",
    "    # Slice the O2 array in between these two peaks\n",
    "    segment = y[start_idx : end_idx + 1]\n",
    "    \n",
    "    # Find the index of the min in this segment (relative to segment)\n",
    "    min_local_idx = np.argmin(segment)\n",
    "    \n",
    "    # Convert that to an absolute index in the full data\n",
    "    actual_min_idx = start_idx + min_local_idx\n",
    "    \n",
    "    # Store the triple: (start_of_cycle, the_minimum, next_peak)\n",
    "    events.append((peak_indices[i], actual_min_idx, peak_indices[i+1]))\n",
    "\n",
    "# If you want them as Timestamps:\n",
    "#events_time = [x\n",
    "#    (df.index[a], df.index[b], df.index[c]) \n",
    "#    for (a,b,c) in events\n",
    "#]"
   ]
  },
  {
   "cell_type": "code",
   "execution_count": 12,
   "metadata": {},
   "outputs": [],
   "source": [
    "analysis = []\n",
    "for (max1, min_, max2) in events:\n",
    "    o2_max1 = y[max1]\n",
    "    o2_min  = y[min_]\n",
    "    o2_max2 = y[max2]\n",
    "    \n",
    "    time_max1 = df.index[max1]\n",
    "    time_min  = df.index[min_]\n",
    "    time_max2 = df.index[max2]\n",
    "    \n",
    "    drop_amp = o2_max1 - o2_min  # how much O2 level dropped\n",
    "    duration = (time_max2 - time_max1).total_seconds() / 60.0  # in minutes, e.g.\n",
    "    \n",
    "    analysis.append({\n",
    "        \"start_time\": time_max1,\n",
    "        \"min_time\": time_min,\n",
    "        \"end_time\": time_max2,\n",
    "        \"start_O2\": o2_max1,\n",
    "        \"min_O2\":   o2_min,\n",
    "        \"end_O2\":   o2_max2,\n",
    "        \"drop_amp\": drop_amp,\n",
    "        \"duration\": duration\n",
    "    })\n",
    "\n",
    "analysis_df = pd.DataFrame(analysis)"
   ]
  },
  {
   "cell_type": "code",
   "execution_count": null,
   "metadata": {},
   "outputs": [],
   "source": [
    "analysis_df"
   ]
  },
  {
   "cell_type": "code",
   "execution_count": null,
   "metadata": {},
   "outputs": [],
   "source": [
    "fig, ax = plt.subplots(figsize=(40, 4))\n",
    "\n",
    "# Plot\n",
    "ax.plot(df.index, y, label=\"O2\")\n",
    "plt.axhline(average_O2, color='y', linestyle='--', label=\"Average O2\")\n",
    "plt.axhline(average_O3_minus_3p, color='r', linestyle='--', label=\"Average O2 - 3%\")\n",
    "\n",
    "# Mark the maxima\n",
    "ax.plot(df.index[peak_indices], y[peak_indices], 'go', label=\"Detected Peaks\")\n",
    "\n",
    "# Mark the minima\n",
    "minima_indices = [ev[1] for ev in events]\n",
    "ax.plot(df.index[minima_indices], y[minima_indices], 'ro', label=\"Detected Minima\")\n",
    "\n",
    "ax.set_xlabel(\"Time\")\n",
    "ax.set_ylabel(\"O2 (%)\")\n",
    "ax.set_title(\"Respiratory Events (Max → Min → Max)\")\n",
    "ax.legend()\n",
    "ax.grid(True)\n",
    "plt.tight_layout()\n",
    "plt.show()"
   ]
  },
  {
   "cell_type": "code",
   "execution_count": null,
   "metadata": {},
   "outputs": [],
   "source": []
  }
 ],
 "metadata": {
  "kernelspec": {
   "display_name": "Python 3",
   "language": "python",
   "name": "python3"
  },
  "language_info": {
   "codemirror_mode": {
    "name": "ipython",
    "version": 3
   },
   "file_extension": ".py",
   "mimetype": "text/x-python",
   "name": "python",
   "nbconvert_exporter": "python",
   "pygments_lexer": "ipython3",
   "version": "3.11.5"
  }
 },
 "nbformat": 4,
 "nbformat_minor": 4
}
